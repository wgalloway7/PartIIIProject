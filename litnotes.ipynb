{
 "cells": [
  {
   "cell_type": "markdown",
   "metadata": {},
   "source": [
    "# Literature review\n",
    "\n",
    "\n",
    "## Rubik's cube paper"
   ]
  },
  {
   "cell_type": "markdown",
   "metadata": {},
   "source": [
    "## Grigera - dynamic approach to glass transition\n",
    "https://journals.aps.org/prl/abstract/10.1103/PhysRevLett.88.055502\n",
    "\n",
    "* Main issue with glass transition is lack of a dynamic transition\n",
    "* Convention is temperature where viscosity is 10^13 P. Below this, experiments measuring viscosity become hard to perform.\n",
    "* For fragile liqudids, sharp rise in viscosity over narrow temperature interval, whereas 'strong' liquids transition much more gradual\n",
    "\n",
    "* Paper suggests sharp dynamic crossover is an underlying topological transition controlled by energy\n",
    "* Energy level where instability index of the stationary points vanishes.\n",
    "* Large energy barriers cause fast increase in relaxation time\n",
    "\n",
    "\n",
    "\n"
   ]
  },
  {
   "cell_type": "markdown",
   "metadata": {},
   "source": []
  },
  {
   "cell_type": "markdown",
   "metadata": {},
   "source": [
    "## Cavagna - supercooled liquids for pedestrians\n"
   ]
  },
  {
   "cell_type": "markdown",
   "metadata": {},
   "source": []
  }
 ],
 "metadata": {
  "language_info": {
   "name": "python"
  }
 },
 "nbformat": 4,
 "nbformat_minor": 2
}
