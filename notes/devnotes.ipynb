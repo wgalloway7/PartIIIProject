{
 "cells": [
  {
   "cell_type": "markdown",
   "metadata": {},
   "source": [
    "27/01 Alex's code calculates the energy of the system initially, performs the swap move,\n",
    "calculates the new energy of the system, then does MH algorithm to decide whether to stay or go back\n",
    "this seems wildly inefficient.\n",
    "\n",
    "Currently evaluates the energy of the entire lattice twice per iteration\n",
    "\n",
    "Ising hamiltonian:\n",
    "$$ H = -J \\sum^N_{\\langle i,j \\rangle} S_i S_j$$\n",
    "$$ S_i,S_j \\in { -1,1 }$$"
   ]
  },
  {
   "cell_type": "markdown",
   "metadata": {},
   "source": [
    "For site S(x,y), evaluating nearest neighbours:\n",
    "$$H(x,y) = - J S_{x,y}[S_{x+1,y} + S_{x-1,y}+ S_{x,y+1}+S_{x,y-1}]$$\n",
    "\n",
    "So summing 4 nearest neighbours for each lattice site and multiplying by site value gives each sites contribution to the energy.\n",
    "We can do this using np.roll(Python) or circshift(Julia)\n",
    "\n",
    "Sort of vectorised so more efficient (but still evaluating the energy of sites that haven't been affected by the move)\n"
   ]
  },
  {
   "cell_type": "markdown",
   "metadata": {},
   "source": [
    "In Alex's code candidate_generating_function! is determined in run Metroplois algorithm function, deciding whether to do random swap move or slice rotation"
   ]
  },
  {
   "cell_type": "markdown",
   "metadata": {},
   "source": [
    "TO DO:\n",
    "Build correlation function - DONE\n",
    "- why does Alex's code have two functions that do the same thing\n",
    "\n",
    "\n",
    "\"Generating function\"\n",
    "no need for inverse as each flip is binary\n",
    "(assuming we don't ever produce moves that are non-commutative ie series of flips)"
   ]
  },
  {
   "cell_type": "markdown",
   "metadata": {},
   "source": [
    "Autocorrelation function:\n",
    "\n",
    "$$C(t)  = \\frac{1}{N^2} \\sum^{N^2}_i \\delta_{\\sigma_i(t), \\sigma_i(0)}$$"
   ]
  },
  {
   "cell_type": "markdown",
   "metadata": {},
   "source": [
    "Reversing functions successfully implemented. Will need to ensure all flip functions take the same arguments:\n",
    "- reverse argument\n",
    "- reversing information so if reverse true we can flip back"
   ]
  },
  {
   "cell_type": "markdown",
   "metadata": {},
   "source": [
    "29/01/25\n",
    "After lots of debugging I have a script that runs basic MH algorithm for various beta. Seems to converge.\n",
    "Now to mess around with values to get some nice hysteresis?<br>\n",
    "\n",
    "TO DO in future: Use previous magnetisation as starting point for next iteration?"
   ]
  }
 ],
 "metadata": {
  "language_info": {
   "name": "python"
  }
 },
 "nbformat": 4,
 "nbformat_minor": 2
}
