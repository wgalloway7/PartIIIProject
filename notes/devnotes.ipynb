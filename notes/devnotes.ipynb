{
 "cells": [
  {
   "cell_type": "markdown",
   "metadata": {},
   "source": [
    "27/01 Alex's code calculates the energy of the system initially, performs the swap move,\n",
    "calculates the new energy of the system, then does MH algorithm to decide whether to stay or go back\n",
    "this seems wildly inefficient.\n",
    "\n",
    "Currently evaluates the energy of the entire lattice twice per iteration\n",
    "\n",
    "Ising hamiltonian:\n",
    "$$ H = -J \\sum^N_{\\langle i,j \\rangle} S_i S_j$$\n",
    "$$ S_i,S_j \\in { -1,1 }$$"
   ]
  },
  {
   "cell_type": "markdown",
   "metadata": {},
   "source": [
    "For site S(x,y), evaluating nearest neighbours:\n",
    "$$H(x,y) = - J S_{x,y}[S_{x+1,y} + S_{x-1,y}+ S_{x,y+1}+S_{x,y-1}]$$\n",
    "\n",
    "So summing 4 nearest neighbours for each lattice site and multiplying by site value gives each sites contribution to the energy.\n",
    "We can do this using np.roll(Python) or circshift(Julia)\n",
    "\n",
    "Sort of vectorised so more efficient (but still evaluating the energy of sites that haven't been affected by the move)\n"
   ]
  },
  {
   "cell_type": "markdown",
   "metadata": {},
   "source": [
    "In Alex's code candidate_generating_function! is determined in run Metroplois algorithm function, deciding whether to do random swap move or slice rotation"
   ]
  },
  {
   "cell_type": "markdown",
   "metadata": {},
   "source": [
    "TO DO:\n",
    "Build correlation function - DONE\n",
    "- why does Alex's code have two functions that do the same thing\n",
    "\n",
    "\n",
    "\"Generating function\"\n",
    "no need for inverse as each flip is binary\n",
    "(assuming we don't ever produce moves that are non-commutative ie series of flips)"
   ]
  },
  {
   "cell_type": "markdown",
   "metadata": {},
   "source": [
    "Autocorrelation function:\n",
    "\n",
    "$$C(t)  = \\frac{1}{N^2} \\sum^{N^2}_i \\delta_{\\sigma_i(t), \\sigma_i(0)}$$"
   ]
  },
  {
   "cell_type": "markdown",
   "metadata": {},
   "source": [
    "Reversing functions successfully implemented. Will need to ensure all flip functions take the same arguments:\n",
    "- reverse argument\n",
    "- reversing information so if reverse true we can flip back"
   ]
  },
  {
   "cell_type": "markdown",
   "metadata": {},
   "source": [
    "29/01/25\n",
    "After lots of debugging I have a script that runs basic MH algorithm for various beta. Seems to converge.\n",
    "Now to mess around with values to get some nice hysteresis?<br>\n",
    "\n",
    "TO DO in future: Use previous magnetisation as starting point for next iteration?\n",
    "\n",
    "- Additional functions added - haven't tested them out yet. Need to add manual input of which swapping function to use.\n",
    "- Main challenge next is working out the workflow in terms of what data needs to be generated - great we can monte-carlo anneal but what are the interesting parameters?"
   ]
  },
  {
   "cell_type": "markdown",
   "metadata": {},
   "source": [
    "30/01/25 Fig1 is average energy not magnetisation which is a bit more interesting. Adjust for graphing 1/beta ~ temperature."
   ]
  },
  {
   "cell_type": "markdown",
   "metadata": {},
   "source": [
    "Use autocorrelation run to determine number of iterations required to be uncorrelated from previous state\n",
    "use these n values for subsequenet \"measurements\" of energy. each measurement being a series of iterations of MC.\n",
    "\n",
    "\n",
    "series of temperatures logarithmically spaced\n",
    "\n",
    "first iteration calculated n number of iterations to decorrelate between each temperature value.\n",
    "once you've got these n values:\n",
    "\n",
    "for each run cool from high temperature to low temperature, run for n values and then compute the energy\n",
    "repeat this run for ~50 different runs\n",
    "so we have energy as a function of temperature 50 times\n"
   ]
  },
  {
   "cell_type": "markdown",
   "metadata": {},
   "source": [
    "profile view\n",
    "\n",
    "10x10 initially\n",
    "50 copies\n",
    "100 temperature intevrals\n",
    "cutoff iterations of 5000\n",
    "\n",
    "change energy calculation"
   ]
  },
  {
   "cell_type": "markdown",
   "metadata": {},
   "source": [
    "01/01/25 Realised current energy calculation doesn't generate energy difference of monte carlo move, just the absolute energy.\n",
    "Also issue with calculating the energy of the entire lattice.\n",
    "<br>\n",
    "currently we have function that just calculates energy of lattice\n",
    "and we apply move function, calculate new energy and use monte carlo to decide whether to go revert this move\n",
    "\n",
    "however this involves calculating the energy of the entire lattice (twice) per move\n",
    "instead we should just evaluate the energies that change\n",
    "<br>\n",
    "if we have a set of length k of flip sites\n",
    "$$ { (x_1,y_1),...(x_k,y_k)}$$\n",
    "then the change in energy from applying the flips is the change in energy of these sites, plus the change in energy of the neighbouring sites.\n",
    "<br>\n",
    "These are the same energy (maybe have been double counting before anyway?) so we just need to evaluate the \"on-site energies\"\n",
    "<br>\n",
    "Also as we're just flipping the sign of the site, the change in energy is just twice the original energy\n",
    "<br>\n",
    "ie if we have spin in +1 state, and has neighbours (+1,-1,+1,+1)\n",
    "initial energy is  +1 * (+1 - 1 + 1 + 1) = +2\n",
    "final energy is -1 * (+1 - 1 + 1 + 1) = -2\n"
   ]
  },
  {
   "cell_type": "markdown",
   "metadata": {},
   "source": [
    "### Proposed new structure of flipping\n",
    "\n",
    "- one single function that decides what flip move to do and generates list of flip sites\n",
    "\n",
    "- one single function to calculate energy change of flipping\n",
    "- - mask interactions between flips by setting sites to 0\n",
    "\n",
    "- one function to do the flipping\n",
    "\n"
   ]
  },
  {
   "cell_type": "markdown",
   "metadata": {},
   "source": [
    "Need to work out result of two flipping sites being adjacent whether energy change cancels out?\n",
    "\n",
    "### In run_monte_carlo_for_beta, the same lattice object is used repeatedly accross copies of the simulation, without resetting, TO FIX"
   ]
  },
  {
   "cell_type": "markdown",
   "metadata": {},
   "source": [
    "resetting is a bit more nuanced than I originally thought. solved config is obviously minimal energy configuration - might be a bit weird in terms of accessing state you wouldn't be able to access initially\n",
    "\n",
    "similarly taking \"avg\" magnetisation sample isn't necessarily useful\n",
    "\n",
    "best to start by evolving at very high temperature, maybe let beta = 0"
   ]
  },
  {
   "cell_type": "markdown",
   "metadata": {},
   "source": [
    "PLAN for next session:\n",
    "- implement function that prepares lattice by evolving at beta = 0\n",
    "- implement the algorithm discussed in meeting:\n",
    "- - start at high temperature\n",
    "- - iterate until decorrelation\n",
    "- - take energy measurement\n",
    "- - decrease temperature slightly, repeat\n",
    "- - once got energy vs temperature set, repeat again, take averages of energies\n",
    "\n",
    "- implement the calculating decorrelation n algorithm\n",
    "- -  on first temperature run, calculate the number of iteration it takes to decorrelate at each temperature\n",
    "- - now when calculating energies for all the copies, no need to run decorrelation function every time\n"
   ]
  }
 ],
 "metadata": {
  "language_info": {
   "name": "python"
  }
 },
 "nbformat": 4,
 "nbformat_minor": 2
}
