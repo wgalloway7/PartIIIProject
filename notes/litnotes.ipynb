{
 "cells": [
  {
   "cell_type": "markdown",
   "metadata": {},
   "source": [
    "# Literature review\n",
    "\n",
    "\n",
    "## Rubik's cube paper"
   ]
  },
  {
   "cell_type": "markdown",
   "metadata": {},
   "source": [
    "## Grigera - dynamic approach to glass transition\n",
    "https://journals.aps.org/prl/abstract/10.1103/PhysRevLett.88.055502\n",
    "\n",
    "* Main issue with glass transition is lack of a dynamic transition\n",
    "* Convention is temperature where viscosity is 10^13 P. Below this, experiments measuring viscosity become hard to perform.\n",
    "\n",
    "<br><br>\n",
    "Strong liquids: Arrhenius relaxation time behaviour.\\\n",
    "Viscosity becomes too large and equilibrium not feasibly attainable.\n",
    "<br><br>\n",
    "Fragile liquids: sharp rise in viscosity in a very narrow interval of cooling. \\\n",
    "Difficult to measure transition to equilibrium with such a sharp transition.\n",
    "\n",
    "* Paper suggests sharp dynamic crossover is an underlying topological transition controlled by energy\n",
    "* Energy level where instability index of the stationary points vanishes.\n",
    "* Large energy barriers cause fast increase in relaxation time\n",
    "\n",
    "<br><br>\n",
    "### Model\n",
    "Soft-sphere binary mixture \\\n",
    "https://journals.aps.org/prl/pdf/10.1103/PhysRevLett.105.157801\n",
    "\n",
    "QUESTION: why is the potential of the form \n",
    "$(\\frac{\\sigma_{\\alpha} + \\sigma_{\\beta}}{|r_{\\alpha} - r_{\\beta}})^{12}$\n",
    "\n",
    "and similarly why is the effective diameter set to unity?\n",
    "$(2\\sigma_1)^3 + 2 (\\sigma_1 + \\sigma_2)^3 + (2 \\sigma_2)^3 = 4 l_0^3$\n",
    "\n",
    "\n",
    "\n",
    "\n",
    "quenching equilibrium Monte Carlo configurations onto saddle points\n",
    "numerically solve non-linear equtions $ \\partial V / \\partial r_i = 0$\\\n",
    "back-tracking Newton method w/ finite-difference approximation to Jacobian?\\\n",
    "<br><br>\n",
    "\n",
    "once saddle point is identified, measure its potential energy and instability index \\\n",
    "instability index = number of negative eigenvalues of Hessian\n",
    "<br>\n",
    "$ J_{ij} = \\frac{\\partial F_i}{\\partial x_j} $ \n",
    "for some vector field F\n",
    "\n",
    "\n",
    "$ H_{ij} = \\frac{\\partial^2 V}{\\partial x_i \\partial x_j} $\n",
    "\n",
    "LOOK INTO : NUMERICAL\n",
    "RECIPES\n",
    "The Art of Scientific Computing\n",
    "<br>\n",
    "\n",
    "\n"
   ]
  },
  {
   "cell_type": "markdown",
   "metadata": {},
   "source": [
    "https://journals.aps.org/prl/pdf/10.1103/PhysRevLett.85.5360\n",
    "paper on classifying saddle indexes - referenced in Grigera\n",
    "quench on a pseudopotential landscape\n",
    "(grad U)^2 instead of original potential energy landscape to identify saddles\n",
    "to locate saddle with energy close to equilibrium configuration\n",
    "why use this? how is this an energy??\n",
    "\n",
    "result of the paper is there seems to be a well-defined function that relates saddle index and energy density\n",
    "k(u)\n",
    "\n",
    "\n",
    "<br><br>\n",
    "\n",
    "Back to Grigera \\\n",
    "thermalise below topological transition threshold to give accurate determination of transition temperature\n",
    "\n",
    "predict sharp slowing down at transition\n",
    "temperature at which activation becomes dominant potential energy barriers already very high\n",
    "\n",
    "<br>\n",
    "to compute onset of glassiness:\n",
    "van hove self-correlation function\n",
    "look at evolution of first peak in r^2 G ( probability that particle has moved a distance r in time t) \\\n",
    "in liquid phase peak moves to right and becomes gaussian\n",
    "in glassy phase huge amount of time to reach thermodynamics limit\n",
    "area decreases very slowly while second peak grows\n",
    "\n"
   ]
  },
  {
   "cell_type": "markdown",
   "metadata": {},
   "source": []
  },
  {
   "cell_type": "markdown",
   "metadata": {},
   "source": [
    "## Cavagna - supercooled liquids for pedestrians\n"
   ]
  },
  {
   "cell_type": "markdown",
   "metadata": {},
   "source": []
  },
  {
   "cell_type": "markdown",
   "metadata": {},
   "source": [
    "Soft sphere monte carlo algorithm\n",
    "https://journals.aps.org/pre/pdf/10.1103/PhysRevE.63.045102\n"
   ]
  }
 ],
 "metadata": {
  "language_info": {
   "name": "python"
  }
 },
 "nbformat": 4,
 "nbformat_minor": 2
}
