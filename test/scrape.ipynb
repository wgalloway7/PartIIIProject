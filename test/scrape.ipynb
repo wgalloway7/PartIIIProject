{
 "cells": [
  {
   "cell_type": "code",
   "execution_count": 30,
   "metadata": {},
   "outputs": [
    {
     "name": "stdout",
     "output_type": "stream",
     "text": [
      "{'Atomic Number': '1', 'Symbol': 'H', 'Atomic Weight': '1.008', 'Name': 'Hydrogen'}\n"
     ]
    }
   ],
   "source": [
    "import requests\n",
    "from bs4 import BeautifulSoup\n",
    "\n",
    "def scrape_periodic_table(url):\n",
    "    # Fetch the webpage\n",
    "    response = requests.get(url)\n",
    "    response.raise_for_status()  # Raise an error for bad responses\n",
    "    \n",
    "    # Parse the HTML\n",
    "    soup = BeautifulSoup(response.text, 'html.parser')\n",
    "    \n",
    "    # Locate the periodic table\n",
    "    table = soup.find('table', class_='pure-table periodic-table')\n",
    "    if not table:\n",
    "        print(\"Table not found!\")\n",
    "        return []\n",
    "    \n",
    "    elements = []\n",
    "    \n",
    "    # Iterate through table rows\n",
    "    for row in table.find('tbody').find_all('tr'):\n",
    "        cells = row.find_all('td', class_=['s', 'p', 'd', 'f'])\n",
    "        \n",
    "        for cell in cells:\n",
    "            if cell.find('div', class_='at_num'):\n",
    "                atomic_number = cell.find('div', class_='at_num').text.strip()\n",
    "                symbol = cell.find('a', class_='sym').text.strip()\n",
    "                atomic_weight = cell.find('div', class_='at_wt').text.strip()\n",
    "                element_name = cell.find('div', class_='e_name').text.strip()\n",
    "                \n",
    "                elements.append({\n",
    "                    'Atomic Number': atomic_number,\n",
    "                    'Symbol': symbol,\n",
    "                    'Atomic Weight': atomic_weight,\n",
    "                    'Name': element_name\n",
    "                })\n",
    "    \n",
    "    return elements\n",
    "\n",
    "# Example usage\n",
    "url = \"https://www.webelements.com/\"  # Replace with the actual URL\n",
    "elements_data = scrape_periodic_table(url)\n",
    "\n",
    "# Print the extracted elements\n",
    "print(elements_data[0])\n"
   ]
  },
  {
   "cell_type": "code",
   "execution_count": 31,
   "metadata": {},
   "outputs": [
    {
     "name": "stdout",
     "output_type": "stream",
     "text": [
      "['Hydrogen', 'Helium', 'Lithium', 'Beryllium', 'Boron', 'Carbon', 'Nitrogen', 'Oxygen', 'Fluorine', 'Neon', 'Sodium', 'Magnesium', 'Aluminium', 'Silicon', 'Phosphorus', 'Sulfur', 'Chlorine', 'Argon', 'Potassium', 'Calcium', 'Scandium', 'Titanium', 'Vanadium', 'Chromium', 'Manganese', 'Iron', 'Cobalt', 'Nickel', 'Copper', 'Zinc', 'Gallium', 'Germanium', 'Arsenic', 'Selenium', 'Bromine', 'Krypton', 'Rubidium', 'Strontium', 'Yttrium', 'Zirconium', 'Niobium', 'Molybdenum', 'Technetium', 'Ruthenium', 'Rhodium', 'Palladium', 'Silver', 'Cadmium', 'Indium', 'Tin', 'Antimony', 'Tellurium', 'Iodine', 'Xenon', 'Caesium', 'Barium', 'Lutetium', 'Hafnium', 'Tantalum', 'Tungsten', 'Rhenium', 'Osmium', 'Iridium', 'Platinum', 'Gold', 'Mercury', 'Thallium', 'Lead', 'Bismuth', 'Polonium', 'Astatine', 'Radon', 'Francium', 'Radium', 'Lawrencium', 'Rutherfordium', 'Dubnium', 'Seaborgium', 'Bohrium', 'Hassium', 'Meitnerium', 'Darmstadtium', 'Roentgenium', 'Copernicium', 'Nihonium', 'Flerovium', 'Moscovium', 'Livermorium', 'Tennessine', 'Oganesson', 'Lanthanum', 'Cerium', 'Praseodymium', 'Neodymium', 'Promethium', 'Samarium', 'Europium', 'Gadolinium', 'Terbium', 'Dysprosium', 'Holmium', 'Erbium', 'Thulium', 'Ytterbium', 'Actinium', 'Thorium', 'Protactinium', 'Uranium', 'Neptunium', 'Plutonium', 'Americium', 'Curium', 'Berkelium', 'Californium', 'Einsteinium', 'Fermium', 'Mendelevium', 'Nobelium']\n",
      "https://www.webelements.com/mercury/thermochemistry.html\n"
     ]
    }
   ],
   "source": [
    "last_entries = [element['Name'] for element in elements_data]\n",
    "print(last_entries)\n",
    "\n",
    "page = url + last_entries[65].lower() + \"/thermochemistry.html\"\n",
    "print(page)"
   ]
  },
  {
   "cell_type": "code",
   "execution_count": 32,
   "metadata": {},
   "outputs": [],
   "source": [
    "import re\n",
    "from bs4 import BeautifulSoup\n",
    "import requests\n",
    "\n",
    "def get_Tc(url):\n",
    "    response = requests.get(url)\n",
    "    response.raise_for_status()  # Ensure request was successful\n",
    "    soup = BeautifulSoup(response.text, 'html.parser')\n",
    "\n",
    "    # Find the unordered list with class 'spark_table_list'\n",
    "    ul = soup.find('ul', class_='spark_table_list')  # Changed from 'table' to 'ul'\n",
    "    if not ul:\n",
    "        print(\"Unordered list not found!\")\n",
    "        return []\n",
    "    \n",
    "    entries = ul.find_all('li')  # Get all list items\n",
    "    results = []\n",
    "    for li in entries:\n",
    "        a_tag = li.find('a')  # Find the <a> tag\n",
    "        if a_tag and 'superconduct' in a_tag.text.lower():  # Check if 'superconduct' is in the text\n",
    "            second_text = li.text.replace(a_tag.text, '').strip(' -')  # Clean up the text\n",
    "\n",
    "            if \"(no data)\" in second_text.lower():\n",
    "                results.append(float('nan'))  # Append NaN if no data\n",
    "            else:\n",
    "                # Extract the first number (float or integer) using regex\n",
    "                match = re.search(r\"\\d+\\.\\d+|\\d+\", second_text)  # Looks for decimal or integer\n",
    "                if match:\n",
    "                    results.append(float(match.group()))  # Convert to float for consistency\n",
    "    \n",
    "    return results\n",
    "\n",
    "\n"
   ]
  },
  {
   "cell_type": "code",
   "execution_count": 38,
   "metadata": {},
   "outputs": [],
   "source": [
    "\n",
    "import re\n",
    "from bs4 import BeautifulSoup\n",
    "import requests\n",
    "\n",
    "def get_rho(url):\n",
    "    response = requests.get(url)\n",
    "    response.raise_for_status()  # Ensure request was successful\n",
    "    soup = BeautifulSoup(response.text, 'html.parser')\n",
    "\n",
    "    # Find the unordered list with class 'spark_table_list'\n",
    "    ul = soup.find('ul', class_='spark_table_list')  # Changed from 'table' to 'ul'\n",
    "    if not ul:\n",
    "        print(\"Unordered list not found!\")\n",
    "        return []\n",
    "    \n",
    "    entries = ul.find_all('li')  # Get all list items\n",
    "    results = []\n",
    "    for li in entries:\n",
    "        a_tag = li.find('a')  # Find the <a> tag\n",
    "        if a_tag and 'electrical resistivity' in a_tag.text.lower():  # Check if 'superconduct' is in the text\n",
    "            second_text = li.text.replace(a_tag.text, '').strip(' -')  # Clean up the text\n",
    "\n",
    "            if \"(no data)\" in second_text.lower():\n",
    "                results.append(float('nan'))  # Append NaN if no data\n",
    "            else:\n",
    "                # Extract the first number (float or integer) using regex\n",
    "                results.append(second_text)\n",
    "    \n",
    "    return results\n",
    "\n",
    "\n"
   ]
  },
  {
   "cell_type": "code",
   "execution_count": null,
   "metadata": {},
   "outputs": [
    {
     "name": "stdout",
     "output_type": "stream",
     "text": [
      "['Hydrogen', 'Helium', 'Lithium', 'Beryllium', 'Boron', 'Carbon', 'Nitrogen', 'Oxygen', 'Fluorine', 'Neon', 'Sodium', 'Magnesium', 'Aluminium', 'Silicon', 'Phosphorus', 'Sulfur', 'Chlorine', 'Argon', 'Potassium', 'Calcium', 'Scandium', 'Titanium', 'Vanadium', 'Chromium', 'Manganese', 'Iron', 'Cobalt', 'Nickel', 'Copper', 'Zinc', 'Gallium', 'Germanium', 'Arsenic', 'Selenium', 'Bromine', 'Krypton', 'Rubidium', 'Strontium', 'Yttrium', 'Zirconium', 'Niobium', 'Molybdenum', 'Technetium', 'Ruthenium', 'Rhodium', 'Palladium', 'Silver', 'Cadmium', 'Indium', 'Tin', 'Antimony', 'Tellurium', 'Iodine', 'Xenon', 'Caesium', 'Barium', 'Lutetium', 'Hafnium', 'Tantalum', 'Tungsten', 'Rhenium', 'Osmium', 'Iridium', 'Platinum', 'Gold', 'Mercury', 'Thallium', 'Lead', 'Bismuth', 'Polonium', 'Astatine', 'Radon', 'Francium', 'Radium', 'Lawrencium', 'Rutherfordium', 'Dubnium', 'Seaborgium', 'Bohrium', 'Hassium', 'Meitnerium', 'Darmstadtium', 'Roentgenium', 'Copernicium', 'Nihonium', 'Flerovium', 'Moscovium', 'Livermorium', 'Tennessine', 'Oganesson', 'Lanthanum', 'Cerium', 'Praseodymium', 'Neodymium', 'Promethium', 'Samarium', 'Europium', 'Gadolinium', 'Terbium', 'Dysprosium', 'Holmium', 'Erbium', 'Thulium', 'Ytterbium', 'Actinium', 'Thorium', 'Protactinium', 'Uranium', 'Neptunium', 'Plutonium', 'Americium', 'Curium', 'Berkelium', 'Californium', 'Einsteinium', 'Fermium', 'Mendelevium', 'Nobelium']\n",
      "[[nan], [nan], [3.95], [2.38]]\n",
      "[[], [], [], []]\n"
     ]
    }
   ],
   "source": [
    "last_entries = [element['Name'] for element in elements_data]\n",
    "print(last_entries)\n",
    "Tcs = []\n",
    "rhos = []\n",
    "\n",
    "for i,entry in enumerate(last_entries[63:67]):\n",
    "    page = url + entry.lower() + \"/thermochemistry.html\"\n",
    "    page2 = url + entry.lower() + \"/   physics.html\"\n",
    "    Tcs.append(get_Tc(page))\n",
    "    rhos.append(get_rho(page2))\n",
    "print(Tcs)\n",
    "print(rhos)"
   ]
  },
  {
   "cell_type": "code",
   "execution_count": null,
   "metadata": {},
   "outputs": [],
   "source": []
  }
 ],
 "metadata": {
  "kernelspec": {
   "display_name": "Python 3",
   "language": "python",
   "name": "python3"
  },
  "language_info": {
   "codemirror_mode": {
    "name": "ipython",
    "version": 3
   },
   "file_extension": ".py",
   "mimetype": "text/x-python",
   "name": "python",
   "nbconvert_exporter": "python",
   "pygments_lexer": "ipython3",
   "version": "3.11.1"
  }
 },
 "nbformat": 4,
 "nbformat_minor": 2
}
